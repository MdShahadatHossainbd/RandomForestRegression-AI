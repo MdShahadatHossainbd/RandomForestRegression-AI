{
  "nbformat": 4,
  "nbformat_minor": 0,
  "metadata": {
    "colab": {
      "name": "22.02.ipynb",
      "provenance": [],
      "mount_file_id": "1gPfJ21UXqOwdZVFMG8ggnIo7Lm8vr6h7",
      "authorship_tag": "ABX9TyO+QMrXZBQMiKd2JnwNw3De",
      "include_colab_link": true
    },
    "kernelspec": {
      "name": "python3",
      "display_name": "Python 3"
    }
  },
  "cells": [
    {
      "cell_type": "markdown",
      "metadata": {
        "id": "view-in-github",
        "colab_type": "text"
      },
      "source": [
        "<a href=\"https://colab.research.google.com/github/MdShahadatHossainbd/RandomForestRegression-AI/blob/master/22_02.ipynb\" target=\"_parent\"><img src=\"https://colab.research.google.com/assets/colab-badge.svg\" alt=\"Open In Colab\"/></a>"
      ]
    },
    {
      "cell_type": "code",
      "metadata": {
        "id": "sB_RePW5AQAL",
        "colab_type": "code",
        "colab": {}
      },
      "source": [
        "import pandas as pd\n",
        "from sklearn.ensemble import RandomForestRegressor"
      ],
      "execution_count": 0,
      "outputs": []
    },
    {
      "cell_type": "code",
      "metadata": {
        "id": "3xwJ4dDD3266",
        "colab_type": "code",
        "outputId": "96baa4a3-e7ac-4e78-915c-01dcf9ce1f15",
        "colab": {
          "base_uri": "https://localhost:8080/",
          "height": 141
        }
      },
      "source": [
        "from google.colab import drive\n",
        "drive.mount('/gdrive')\n",
        "%cd /gdrive"
      ],
      "execution_count": 0,
      "outputs": [
        {
          "output_type": "stream",
          "text": [
            "Go to this URL in a browser: https://accounts.google.com/o/oauth2/auth?client_id=947318989803-6bn6qk8qdgf4n4g3pfee6491hc0brc4i.apps.googleusercontent.com&redirect_uri=urn%3aietf%3awg%3aoauth%3a2.0%3aoob&response_type=code&scope=email%20https%3a%2f%2fwww.googleapis.com%2fauth%2fdocs.test%20https%3a%2f%2fwww.googleapis.com%2fauth%2fdrive%20https%3a%2f%2fwww.googleapis.com%2fauth%2fdrive.photos.readonly%20https%3a%2f%2fwww.googleapis.com%2fauth%2fpeopleapi.readonly\n",
            "\n",
            "Enter your authorization code:\n",
            "··········\n",
            "Mounted at /gdrive\n",
            "/gdrive\n"
          ],
          "name": "stdout"
        }
      ]
    },
    {
      "cell_type": "code",
      "metadata": {
        "id": "s_s4klPA3rHh",
        "colab_type": "code",
        "outputId": "a3ec751f-e487-419a-c83e-e6550f296d09",
        "colab": {
          "base_uri": "https://localhost:8080/",
          "height": 659
        }
      },
      "source": [
        "file = r'/gdrive/My Drive/AI_LAB/Car_Up.csv'\n",
        "data = pd.read_csv(file)\n",
        "print(data)"
      ],
      "execution_count": 0,
      "outputs": [
        {
          "output_type": "stream",
          "text": [
            "    Volume  Weight  CO2\n",
            "0     1000     790   99\n",
            "1     1200    1160   95\n",
            "2     1000     929   95\n",
            "3      900     865   90\n",
            "4     1500    1140  105\n",
            "5     1000     929  105\n",
            "6     1400    1109   90\n",
            "7     1500    1365   92\n",
            "8     1500    1112   98\n",
            "9     1600    1150   99\n",
            "10    1100     980   99\n",
            "11    1300     990  101\n",
            "12    1000    1112   99\n",
            "13    1600    1252   94\n",
            "14    1600    1326   97\n",
            "15    1600    1330   97\n",
            "16    1600    1365   99\n",
            "17    2200    1280  104\n",
            "18    1600    1119  104\n",
            "19    2000    1328  105\n",
            "20    1600    1584   94\n",
            "21    2000    1428   99\n",
            "22    2100    1365   99\n",
            "23    1600    1415   99\n",
            "24    2000    1415   99\n",
            "25    1500    1465  102\n",
            "26    2000    1490  104\n",
            "27    2000    1725  114\n",
            "28    1600    1523  109\n",
            "29    2000    1705  114\n",
            "30    2100    1605  115\n",
            "31    2000    1746  117\n",
            "32    1600    1235  104\n",
            "33    1600    1390  108\n",
            "34    1600    1405  109\n",
            "35    2500    1395  120\n"
          ],
          "name": "stdout"
        }
      ]
    },
    {
      "cell_type": "code",
      "metadata": {
        "id": "MqRi8nR85duR",
        "colab_type": "code",
        "colab": {}
      },
      "source": [
        "x=data.iloc[:,0:2].values\n",
        "y=data.iloc[:,2].values"
      ],
      "execution_count": 0,
      "outputs": []
    },
    {
      "cell_type": "code",
      "metadata": {
        "id": "qRCVAh297T06",
        "colab_type": "code",
        "outputId": "841c897e-6e09-4727-f602-3e2920cdfb43",
        "colab": {
          "base_uri": "https://localhost:8080/",
          "height": 641
        }
      },
      "source": [
        "print(x)"
      ],
      "execution_count": 0,
      "outputs": [
        {
          "output_type": "stream",
          "text": [
            "[[1000  790]\n",
            " [1200 1160]\n",
            " [1000  929]\n",
            " [ 900  865]\n",
            " [1500 1140]\n",
            " [1000  929]\n",
            " [1400 1109]\n",
            " [1500 1365]\n",
            " [1500 1112]\n",
            " [1600 1150]\n",
            " [1100  980]\n",
            " [1300  990]\n",
            " [1000 1112]\n",
            " [1600 1252]\n",
            " [1600 1326]\n",
            " [1600 1330]\n",
            " [1600 1365]\n",
            " [2200 1280]\n",
            " [1600 1119]\n",
            " [2000 1328]\n",
            " [1600 1584]\n",
            " [2000 1428]\n",
            " [2100 1365]\n",
            " [1600 1415]\n",
            " [2000 1415]\n",
            " [1500 1465]\n",
            " [2000 1490]\n",
            " [2000 1725]\n",
            " [1600 1523]\n",
            " [2000 1705]\n",
            " [2100 1605]\n",
            " [2000 1746]\n",
            " [1600 1235]\n",
            " [1600 1390]\n",
            " [1600 1405]\n",
            " [2500 1395]]\n"
          ],
          "name": "stdout"
        }
      ]
    },
    {
      "cell_type": "code",
      "metadata": {
        "id": "0LLhHxGy7tDw",
        "colab_type": "code",
        "outputId": "c56746bf-1c42-460e-a20b-2ca107dfcc95",
        "colab": {
          "base_uri": "https://localhost:8080/",
          "height": 52
        }
      },
      "source": [
        "print(y)"
      ],
      "execution_count": 0,
      "outputs": [
        {
          "output_type": "stream",
          "text": [
            "[ 99  95  95  90 105 105  90  92  98  99  99 101  99  94  97  97  99 104\n",
            " 104 105  94  99  99  99  99 102 104 114 109 114 115 117 104 108 109 120]\n"
          ],
          "name": "stdout"
        }
      ]
    },
    {
      "cell_type": "code",
      "metadata": {
        "id": "TqFef66z8xpv",
        "colab_type": "code",
        "colab": {}
      },
      "source": [
        "Xtrain=x[0:32]\n",
        "Xtest=x[32:]\n",
        "ytrain=y[0:32]\n",
        "ytest=y[32:]"
      ],
      "execution_count": 0,
      "outputs": []
    },
    {
      "cell_type": "code",
      "metadata": {
        "id": "7HZNajnr-wZg",
        "colab_type": "code",
        "outputId": "4b285ba5-af94-42fa-cdf1-1356f7f99fff",
        "colab": {
          "base_uri": "https://localhost:8080/",
          "height": 572
        }
      },
      "source": [
        "print(Xtrain)"
      ],
      "execution_count": 0,
      "outputs": [
        {
          "output_type": "stream",
          "text": [
            "[[1000  790]\n",
            " [1200 1160]\n",
            " [1000  929]\n",
            " [ 900  865]\n",
            " [1500 1140]\n",
            " [1000  929]\n",
            " [1400 1109]\n",
            " [1500 1365]\n",
            " [1500 1112]\n",
            " [1600 1150]\n",
            " [1100  980]\n",
            " [1300  990]\n",
            " [1000 1112]\n",
            " [1600 1252]\n",
            " [1600 1326]\n",
            " [1600 1330]\n",
            " [1600 1365]\n",
            " [2200 1280]\n",
            " [1600 1119]\n",
            " [2000 1328]\n",
            " [1600 1584]\n",
            " [2000 1428]\n",
            " [2100 1365]\n",
            " [1600 1415]\n",
            " [2000 1415]\n",
            " [1500 1465]\n",
            " [2000 1490]\n",
            " [2000 1725]\n",
            " [1600 1523]\n",
            " [2000 1705]\n",
            " [2100 1605]\n",
            " [2000 1746]]\n"
          ],
          "name": "stdout"
        }
      ]
    },
    {
      "cell_type": "code",
      "metadata": {
        "id": "pBAWHuIh_BEX",
        "colab_type": "code",
        "outputId": "645559e8-21cc-4f83-ca3c-ae6b90a7ae96",
        "colab": {
          "base_uri": "https://localhost:8080/",
          "height": 87
        }
      },
      "source": [
        "print(Xtest)"
      ],
      "execution_count": 0,
      "outputs": [
        {
          "output_type": "stream",
          "text": [
            "[[1600 1235]\n",
            " [1600 1390]\n",
            " [1600 1405]\n",
            " [2500 1395]]\n"
          ],
          "name": "stdout"
        }
      ]
    },
    {
      "cell_type": "code",
      "metadata": {
        "id": "-ez3dg5f_IvB",
        "colab_type": "code",
        "outputId": "9ff96949-dfbd-40b0-c9eb-e97ca2fec05a",
        "colab": {
          "base_uri": "https://localhost:8080/",
          "height": 139
        }
      },
      "source": [
        "regr=RandomForestRegressor(n_estimators=5,random_state=0)\n",
        "regr.fit(Xtrain,ytrain)"
      ],
      "execution_count": 0,
      "outputs": [
        {
          "output_type": "execute_result",
          "data": {
            "text/plain": [
              "RandomForestRegressor(bootstrap=True, ccp_alpha=0.0, criterion='mse',\n",
              "                      max_depth=None, max_features='auto', max_leaf_nodes=None,\n",
              "                      max_samples=None, min_impurity_decrease=0.0,\n",
              "                      min_impurity_split=None, min_samples_leaf=1,\n",
              "                      min_samples_split=2, min_weight_fraction_leaf=0.0,\n",
              "                      n_estimators=5, n_jobs=None, oob_score=False,\n",
              "                      random_state=0, verbose=0, warm_start=False)"
            ]
          },
          "metadata": {
            "tags": []
          },
          "execution_count": 21
        }
      ]
    },
    {
      "cell_type": "code",
      "metadata": {
        "id": "eaOKFVKZABxq",
        "colab_type": "code",
        "outputId": "1c63029c-eca0-4ce5-8287-81bc1ccb9dd5",
        "colab": {
          "base_uri": "https://localhost:8080/",
          "height": 35
        }
      },
      "source": [
        "print(regr.predict(Xtest))"
      ],
      "execution_count": 0,
      "outputs": [
        {
          "output_type": "stream",
          "text": [
            "[ 96.  99.  99. 100.]\n"
          ],
          "name": "stdout"
        }
      ]
    }
  ]
}